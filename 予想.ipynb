{
 "cells": [
  {
   "cell_type": "markdown",
   "id": "d069b0b4-99cc-4810-b60a-49ecc30195da",
   "metadata": {},
   "source": [
    "着順を予想\n",
    "\n",
    "https://agusblog.net/keiba-ai-data-encode/    \n",
    "https://agusblog.net/keiba-ai-model-learning/    "
   ]
  },
  {
   "cell_type": "markdown",
   "id": "6a1bdbfb-5902-4ba5-8e48-876f65bce812",
   "metadata": {},
   "source": [
    "インストールが必要したモジュール\n",
    "\n",
    "    conda install -c conda-forge scikit-learn (conda-forgeは、intelでも可)\n",
    "    conda install -c conda-forge scipy\n",
    "    conda install -c conda-forge lightgbm"
   ]
  },
  {
   "cell_type": "markdown",
   "id": "6bab2897-9946-4569-82c4-cd0931b217d1",
   "metadata": {},
   "source": [
    "# モジュール"
   ]
  },
  {
   "cell_type": "code",
   "execution_count": 149,
   "id": "c04fdcb3-2549-4756-b71c-8fd2152b11bd",
   "metadata": {},
   "outputs": [],
   "source": [
    "import pandas as pd\n",
    "from sklearn.preprocessing import LabelEncoder\n",
    "import numpy as np\n",
    "import scipy.stats\n",
    "import sys\n",
    "import zipfile\n",
    "\n",
    "import lightgbm as lgb\n",
    "from sklearn.metrics import roc_curve,roc_auc_score\n",
    "import matplotlib.pyplot  as plt\n",
    "from sklearn.ensemble import RandomForestClassifier\n",
    "from sklearn.model_selection import train_test_split\n",
    "from datetime import date, datetime, timedelta\n",
    "from sklearn import metrics"
   ]
  },
  {
   "cell_type": "markdown",
   "id": "117ab9c2-d79a-432a-b7d1-2a8efa2de2ca",
   "metadata": {
    "jp-MarkdownHeadingCollapsed": true
   },
   "source": [
    "# パラメータ"
   ]
  },
  {
   "cell_type": "code",
   "execution_count": 150,
   "id": "88884c59-7cba-47c4-991a-e79e92588a71",
   "metadata": {},
   "outputs": [],
   "source": [
    "infile = \"./data/netkeiba_2020-2024.zip\"\n",
    "infile2 = \"./data/2024_add.csv\"\n",
    "\n",
    "# モデルの学習／検証の対象レース\n",
    "valid_ymd = \"20240323\"\n",
    "valid_race = \"第72回日経賞(G2)\""
   ]
  },
  {
   "cell_type": "markdown",
   "id": "b48cf75e-12b8-4afe-abc9-966c7634645d",
   "metadata": {
    "jp-MarkdownHeadingCollapsed": true
   },
   "source": [
    "# データの取得"
   ]
  },
  {
   "cell_type": "code",
   "execution_count": 151,
   "id": "d6aa8bca-1631-46d0-8376-d70d7c4d6489",
   "metadata": {},
   "outputs": [
    {
     "name": "stdout",
     "output_type": "stream",
     "text": [
      "netkeiba_2020-2024/2020.csv (48282, 26)\n",
      "netkeiba_2020-2024/2021.csv (47821, 26)\n",
      "netkeiba_2020-2024/2022.csv (47220, 26)\n",
      "netkeiba_2020-2024/2023.csv (47672, 26)\n",
      "netkeiba_2020-2024/2024.csv (9024, 26)\n",
      "./data/2024_add.csv (10, 26)\n"
     ]
    }
   ],
   "source": [
    "# zipファイルは展開してループ\n",
    "zip_f = zipfile.ZipFile(infile)\n",
    "file_list = zip_f.namelist()\n",
    "\n",
    "_df_list = []\n",
    "for file in file_list:\n",
    "    _df = pd.read_csv(zip_f.open(file),encoding=\"shift-jis\")#,parse_dates=['日付'])\n",
    "    print(file.encode('cp437').decode('cp437'), _df.shape)\n",
    "    _df_list.append(_df)\n",
    "\n",
    "_df = pd.read_csv(infile2,encoding=\"shift-jis\")#,parse_dates=['日付'])\n",
    "print(infile2, _df.shape)\n",
    "_df_list.append(_df)\n",
    "\n",
    "df = pd.concat(_df_list)"
   ]
  },
  {
   "cell_type": "code",
   "execution_count": 152,
   "id": "9b83cbe3-9713-4a97-8624-be662b56b5b8",
   "metadata": {},
   "outputs": [
    {
     "name": "stdout",
     "output_type": "stream",
     "text": [
      "<class 'pandas.core.frame.DataFrame'>\n",
      "Index: 200029 entries, 0 to 9\n",
      "Data columns (total 26 columns):\n",
      " #   Column   Non-Null Count   Dtype  \n",
      "---  ------   --------------   -----  \n",
      " 0   race_id  200029 non-null  int64  \n",
      " 1   馬        200029 non-null  object \n",
      " 2   騎手       200029 non-null  object \n",
      " 3   馬番       200029 non-null  int64  \n",
      " 4   走破時間     198429 non-null  object \n",
      " 5   オッズ      200029 non-null  object \n",
      " 6   通過順      199073 non-null  object \n",
      " 7   着順       200019 non-null  object \n",
      " 8   体重       200019 non-null  float64\n",
      " 9   体重変化     200019 non-null  float64\n",
      " 10  性        200029 non-null  object \n",
      " 11  齢        200029 non-null  int64  \n",
      " 12  斤量       200029 non-null  float64\n",
      " 13  上がり      198429 non-null  float64\n",
      " 14  人気       199335 non-null  float64\n",
      " 15  レース名     200029 non-null  object \n",
      " 16  日付       200029 non-null  object \n",
      " 17  開催       200029 non-null  object \n",
      " 18  クラス      200029 non-null  object \n",
      " 19  芝・ダート    200029 non-null  object \n",
      " 20  距離       200029 non-null  int64  \n",
      " 21  回り       200029 non-null  object \n",
      " 22  馬場       200029 non-null  object \n",
      " 23  天気       200029 non-null  object \n",
      " 24  場id      200029 non-null  int64  \n",
      " 25  場名       200029 non-null  object \n",
      "dtypes: float64(5), int64(5), object(16)\n",
      "memory usage: 41.2+ MB\n"
     ]
    }
   ],
   "source": [
    "# ck\n",
    "df.info()"
   ]
  },
  {
   "cell_type": "markdown",
   "id": "8ac68d6f-29e9-4ac2-87c8-21ee3bff5d23",
   "metadata": {
    "jp-MarkdownHeadingCollapsed": true
   },
   "source": [
    "# 前処理"
   ]
  },
  {
   "cell_type": "markdown",
   "id": "c9daf17a-9157-42a2-843d-d4385782a6af",
   "metadata": {
    "jp-MarkdownHeadingCollapsed": true
   },
   "source": [
    "## 変数の絞り込み"
   ]
  },
  {
   "cell_type": "code",
   "execution_count": 153,
   "id": "73351856-2031-44ea-9ed5-19e8ac1c7a67",
   "metadata": {},
   "outputs": [],
   "source": [
    "# df = df[[\"race_id\",\"馬\",\"馬番\",\"走破時間\",\"着順\",\"芝・ダート\",\"距離\",\"日付\",\"レース名\"]]"
   ]
  },
  {
   "cell_type": "code",
   "execution_count": 154,
   "id": "d5e20e50-c67c-44bf-9395-e69c09808dde",
   "metadata": {},
   "outputs": [],
   "source": [
    "# # ck\n",
    "# df.head(3)"
   ]
  },
  {
   "cell_type": "code",
   "execution_count": 155,
   "id": "0ca86ce4-f826-4ee6-9ad8-c54b89effe8f",
   "metadata": {},
   "outputs": [],
   "source": [
    "def class_mapping(row):\n",
    "    mappings = {'障害':0, 'G1': 10, 'G2': 9, 'G3': 8, '(L)': 7, 'オープン': 7,'OP': 7, '3勝': 6, '1600': 6, '2勝': 5, '1000': 5, '1勝': 4, '500': 4, '新馬': 3, '未勝利': 1}\n",
    "    for key, value in mappings.items():\n",
    "        if key in row:\n",
    "            return value\n",
    "    return 0  # If no mapping is found, return 0\n",
    "\n",
    "df['クラス'] = df['クラス'].apply(class_mapping)          \n",
    "sex_mapping = {'牡':0, '牝': 1, 'セ': 2}\n",
    "df['性'] = df['性'].map(sex_mapping)\n",
    "shiba_mapping = {'芝': 0, 'ダ': 1, '障': 2}\n",
    "df['芝・ダート'] = df['芝・ダート'].map(shiba_mapping)\n",
    "mawari_mapping = {'右': 0, '左': 1, '芝': 2, '直': 2}\n",
    "df['回り'] = df['回り'].map(mawari_mapping)\n",
    "baba_mapping = {'良': 0, '稍': 1, '重': 2, '不': 3}\n",
    "df['馬場'] = df['馬場'].map(baba_mapping)\n",
    "tenki_mapping = {'晴': 0, '曇': 1, '小': 2, '雨': 3, '雪': 4}\n",
    "df['天気'] = df['天気'].map(tenki_mapping)"
   ]
  },
  {
   "cell_type": "markdown",
   "id": "b7472a52-6f65-4816-8996-7e0281514584",
   "metadata": {
    "jp-MarkdownHeadingCollapsed": true
   },
   "source": [
    "## 走破時間を数値に変換"
   ]
  },
  {
   "cell_type": "code",
   "execution_count": 156,
   "id": "07dd789b-8a6b-443c-86a9-114937be9af9",
   "metadata": {},
   "outputs": [],
   "source": [
    "# 既存のコード：走破時間を秒に変換\n",
    "time_parts = df['走破時間'].str.split(':', expand=True) # 「：」前後で分と秒を分割\n",
    "seconds = (\n",
    "    time_parts[0].astype(float) * 60 + \n",
    "    time_parts[1].str.split('.', expand=True)[0].astype(float) + \n",
    "    time_parts[1].str.split('.', expand=True)[1].astype(float) / 10\n",
    ")\n",
    "df.rename(columns={'走破時間':'走破時間_org'},inplace=True) # 元データを退避\n",
    "df['走破時間'] = seconds"
   ]
  },
  {
   "cell_type": "code",
   "execution_count": 157,
   "id": "5286b831-2970-4d97-863c-c40698b182e4",
   "metadata": {},
   "outputs": [
    {
     "data": {
      "text/html": [
       "<div>\n",
       "<style scoped>\n",
       "    .dataframe tbody tr th:only-of-type {\n",
       "        vertical-align: middle;\n",
       "    }\n",
       "\n",
       "    .dataframe tbody tr th {\n",
       "        vertical-align: top;\n",
       "    }\n",
       "\n",
       "    .dataframe thead th {\n",
       "        text-align: right;\n",
       "    }\n",
       "</style>\n",
       "<table border=\"1\" class=\"dataframe\">\n",
       "  <thead>\n",
       "    <tr style=\"text-align: right;\">\n",
       "      <th></th>\n",
       "      <th>走破時間_org</th>\n",
       "      <th>走破時間</th>\n",
       "    </tr>\n",
       "  </thead>\n",
       "  <tbody>\n",
       "    <tr>\n",
       "      <th>0</th>\n",
       "      <td>1:49.7</td>\n",
       "      <td>109.7</td>\n",
       "    </tr>\n",
       "    <tr>\n",
       "      <th>1</th>\n",
       "      <td>1:50.0</td>\n",
       "      <td>110.0</td>\n",
       "    </tr>\n",
       "    <tr>\n",
       "      <th>2</th>\n",
       "      <td>1:50.1</td>\n",
       "      <td>110.1</td>\n",
       "    </tr>\n",
       "  </tbody>\n",
       "</table>\n",
       "</div>"
      ],
      "text/plain": [
       "  走破時間_org   走破時間\n",
       "0   1:49.7  109.7\n",
       "1   1:50.0  110.0\n",
       "2   1:50.1  110.1"
      ]
     },
     "execution_count": 157,
     "metadata": {},
     "output_type": "execute_result"
    }
   ],
   "source": [
    "# ck \n",
    "df[[\"走破時間_org\",\"走破時間\"]].head(3)"
   ]
  },
  {
   "cell_type": "markdown",
   "id": "3c74ab0f-f562-46e9-93e7-9a047f141038",
   "metadata": {
    "jp-MarkdownHeadingCollapsed": true
   },
   "source": [
    "## レース番号を取得"
   ]
  },
  {
   "cell_type": "code",
   "execution_count": 158,
   "id": "74d85b63-dc60-4edf-b5e0-b8e2f0dac0bc",
   "metadata": {},
   "outputs": [],
   "source": [
    "# レースだけを特定する場合は、末尾2桁を使用\n",
    "df['レース番号'] = df['race_id'].astype(str).str[-2:].astype(int)"
   ]
  },
  {
   "cell_type": "code",
   "execution_count": 159,
   "id": "d24c4f71-dccc-4ede-bb44-539d0ba83891",
   "metadata": {},
   "outputs": [
    {
     "data": {
      "text/html": [
       "<div>\n",
       "<style scoped>\n",
       "    .dataframe tbody tr th:only-of-type {\n",
       "        vertical-align: middle;\n",
       "    }\n",
       "\n",
       "    .dataframe tbody tr th {\n",
       "        vertical-align: top;\n",
       "    }\n",
       "\n",
       "    .dataframe thead th {\n",
       "        text-align: right;\n",
       "    }\n",
       "</style>\n",
       "<table border=\"1\" class=\"dataframe\">\n",
       "  <thead>\n",
       "    <tr style=\"text-align: right;\">\n",
       "      <th></th>\n",
       "      <th>race_id</th>\n",
       "      <th>レース番号</th>\n",
       "    </tr>\n",
       "  </thead>\n",
       "  <tbody>\n",
       "    <tr>\n",
       "      <th>0</th>\n",
       "      <td>202001010101</td>\n",
       "      <td>1</td>\n",
       "    </tr>\n",
       "    <tr>\n",
       "      <th>9</th>\n",
       "      <td>202406030111</td>\n",
       "      <td>11</td>\n",
       "    </tr>\n",
       "  </tbody>\n",
       "</table>\n",
       "</div>"
      ],
      "text/plain": [
       "        race_id  レース番号\n",
       "0  202001010101      1\n",
       "9  202406030111     11"
      ]
     },
     "execution_count": 159,
     "metadata": {},
     "output_type": "execute_result"
    }
   ],
   "source": [
    "# ck \n",
    "pd.concat([\n",
    "    df[[\"race_id\",\"レース番号\"]].head(1),\n",
    "    df[[\"race_id\",\"レース番号\"]].tail(1)\n",
    "])  "
   ]
  },
  {
   "cell_type": "markdown",
   "id": "baf77227-5613-4f01-a5a7-8744e3948bb8",
   "metadata": {
    "jp-MarkdownHeadingCollapsed": true
   },
   "source": [
    "## 直近までの日数差を算出"
   ]
  },
  {
   "cell_type": "code",
   "execution_count": 160,
   "id": "ac1fc3ac-9ff3-4c47-a4a6-2ef08eaf90d6",
   "metadata": {},
   "outputs": [],
   "source": [
    "# 文字列を日付型に変換し予測レースまでの日数差を算出\n",
    "df.rename(columns={'日付':'日付_org'},inplace=True) # 元データを退避\n",
    "df[\"日付\"] = pd.to_datetime(df[\"日付_org\"], format=\"%Y年%m月%d日\")\n",
    "df[\"日数差\"] = df[\"日付\"] - datetime.strptime(valid_ymd, '%Y%m%d')\n",
    "df[\"日数差\"] = -(df[\"日数差\"] / timedelta(days=1)) # 日数差はtimedelta型なので整数で扱えるようにtimedelta(days=1)で割る"
   ]
  },
  {
   "cell_type": "code",
   "execution_count": 161,
   "id": "8951560b-6e67-4a2c-986d-1586c836d0d9",
   "metadata": {},
   "outputs": [
    {
     "name": "stdout",
     "output_type": "stream",
     "text": [
      "20240323までの日数差\n"
     ]
    },
    {
     "data": {
      "text/html": [
       "<div>\n",
       "<style scoped>\n",
       "    .dataframe tbody tr th:only-of-type {\n",
       "        vertical-align: middle;\n",
       "    }\n",
       "\n",
       "    .dataframe tbody tr th {\n",
       "        vertical-align: top;\n",
       "    }\n",
       "\n",
       "    .dataframe thead th {\n",
       "        text-align: right;\n",
       "    }\n",
       "</style>\n",
       "<table border=\"1\" class=\"dataframe\">\n",
       "  <thead>\n",
       "    <tr style=\"text-align: right;\">\n",
       "      <th></th>\n",
       "      <th>日付_org</th>\n",
       "      <th>日付</th>\n",
       "      <th>日数差</th>\n",
       "    </tr>\n",
       "  </thead>\n",
       "  <tbody>\n",
       "    <tr>\n",
       "      <th>0</th>\n",
       "      <td>2020年7月25日</td>\n",
       "      <td>2020-07-25</td>\n",
       "      <td>1337.0</td>\n",
       "    </tr>\n",
       "    <tr>\n",
       "      <th>9</th>\n",
       "      <td>2024年3月23日</td>\n",
       "      <td>2024-03-23</td>\n",
       "      <td>-0.0</td>\n",
       "    </tr>\n",
       "  </tbody>\n",
       "</table>\n",
       "</div>"
      ],
      "text/plain": [
       "       日付_org         日付     日数差\n",
       "0  2020年7月25日 2020-07-25  1337.0\n",
       "9  2024年3月23日 2024-03-23    -0.0"
      ]
     },
     "execution_count": 161,
     "metadata": {},
     "output_type": "execute_result"
    }
   ],
   "source": [
    "# ck \n",
    "print(f\"{valid_ymd}までの日数差\")\n",
    "pd.concat([\n",
    "    df[[\"日付_org\",\"日付\",\"日数差\"]].head(1),\n",
    "    df[[\"日付_org\",\"日付\",\"日数差\"]].tail(1)\n",
    "])"
   ]
  },
  {
   "cell_type": "markdown",
   "id": "f5d2aa51-ec37-444b-bc52-fdc1bb71a437",
   "metadata": {
    "jp-MarkdownHeadingCollapsed": true
   },
   "source": [
    "## 同じ馬の過去5レースの情報を新しいレース結果にマージ"
   ]
  },
  {
   "cell_type": "code",
   "execution_count": 162,
   "id": "e0baef99-b9b7-4d93-a285-1f843ba53745",
   "metadata": {},
   "outputs": [],
   "source": [
    "# '馬'と'日付'に基づいて降順にソート\n",
    "df.sort_values(by=['馬', '日付'], ascending=[True, False], inplace=True)\n",
    "df[\"着順\"]\n",
    "\n",
    "# 同じ馬の過去5レースの情報を新しいレース結果にマージ\n",
    "features = ['馬番', '騎手', '斤量', '体重', '体重変化', '上がり', '距離', 'クラス', '走破時間', '芝・ダート', '天気','馬場','日数差']\n",
    "for i in range(1, 6):\n",
    "    for feature in features:\n",
    "        df[f'{feature}{i}'] = df.groupby('馬')[feature].shift(-i)\n"
   ]
  },
  {
   "cell_type": "code",
   "execution_count": 163,
   "id": "12d8f832-a3ee-4a28-a984-b8e6a9616b94",
   "metadata": {},
   "outputs": [],
   "source": [
    "# 斤量に関連する列を数値に変換し、変換できないデータはNaNにします。\n",
    "kinryo_columns = ['斤量', '斤量1', '斤量2', '斤量3', '斤量4','斤量5']\n",
    "for col in kinryo_columns:\n",
    "    df[col] = pd.to_numeric(df[col], errors='coerce')\n",
    "\n",
    "# 平均斤量を計算します。\n",
    "df['平均斤量'] = df[kinryo_columns].mean(axis=1)"
   ]
  },
  {
   "cell_type": "code",
   "execution_count": 164,
   "id": "845d7d79-1118-4c94-b6de-2f85e55c712a",
   "metadata": {},
   "outputs": [],
   "source": [
    "# # 騎手の勝率\n",
    "# jockey_win_rate = df.groupby('騎手')['着順'].apply(lambda x: (x==1).sum() / x.count()).reset_index()\n",
    "# jockey_win_rate.columns = ['騎手', '騎手の勝率']\n",
    "# jockey_win_rate.to_csv('calc_rate/jockey_win_rate.csv', index=False)\n",
    "# # '騎手'をキーにしてdf_combinedとjockey_win_rateをマージする\n",
    "# df = pd.merge(df_combined, jockey_win_rate, on='騎手', how='left')"
   ]
  },
  {
   "cell_type": "code",
   "execution_count": 165,
   "id": "adc9da59-0aee-4862-a761-58542408361e",
   "metadata": {},
   "outputs": [
    {
     "data": {
      "text/html": [
       "<div>\n",
       "<style scoped>\n",
       "    .dataframe tbody tr th:only-of-type {\n",
       "        vertical-align: middle;\n",
       "    }\n",
       "\n",
       "    .dataframe tbody tr th {\n",
       "        vertical-align: top;\n",
       "    }\n",
       "\n",
       "    .dataframe thead th {\n",
       "        text-align: right;\n",
       "    }\n",
       "</style>\n",
       "<table border=\"1\" class=\"dataframe\">\n",
       "  <thead>\n",
       "    <tr style=\"text-align: right;\">\n",
       "      <th></th>\n",
       "      <th>race_id</th>\n",
       "      <th>馬</th>\n",
       "      <th>騎手</th>\n",
       "      <th>馬番</th>\n",
       "      <th>走破時間_org</th>\n",
       "      <th>オッズ</th>\n",
       "      <th>通過順</th>\n",
       "      <th>着順</th>\n",
       "      <th>体重</th>\n",
       "      <th>体重変化</th>\n",
       "      <th>...</th>\n",
       "      <th>体重変化5</th>\n",
       "      <th>上がり5</th>\n",
       "      <th>距離5</th>\n",
       "      <th>クラス5</th>\n",
       "      <th>走破時間5</th>\n",
       "      <th>芝・ダート5</th>\n",
       "      <th>天気5</th>\n",
       "      <th>馬場5</th>\n",
       "      <th>日数差5</th>\n",
       "      <th>平均斤量</th>\n",
       "    </tr>\n",
       "  </thead>\n",
       "  <tbody>\n",
       "    <tr>\n",
       "      <th>7835</th>\n",
       "      <td>202410020201</td>\n",
       "      <td>アアル</td>\n",
       "      <td>小沢大仁</td>\n",
       "      <td>6</td>\n",
       "      <td>1:54.9</td>\n",
       "      <td>209.6</td>\n",
       "      <td>11-13-15-15</td>\n",
       "      <td>15</td>\n",
       "      <td>482.0</td>\n",
       "      <td>12.0</td>\n",
       "      <td>...</td>\n",
       "      <td>NaN</td>\n",
       "      <td>NaN</td>\n",
       "      <td>NaN</td>\n",
       "      <td>NaN</td>\n",
       "      <td>NaN</td>\n",
       "      <td>NaN</td>\n",
       "      <td>NaN</td>\n",
       "      <td>NaN</td>\n",
       "      <td>NaN</td>\n",
       "      <td>56.0</td>\n",
       "    </tr>\n",
       "    <tr>\n",
       "      <th>17689</th>\n",
       "      <td>202305040704</td>\n",
       "      <td>アアル</td>\n",
       "      <td>菅原明良</td>\n",
       "      <td>5</td>\n",
       "      <td>1:30.7</td>\n",
       "      <td>14.7</td>\n",
       "      <td>10-12</td>\n",
       "      <td>14</td>\n",
       "      <td>470.0</td>\n",
       "      <td>0.0</td>\n",
       "      <td>...</td>\n",
       "      <td>NaN</td>\n",
       "      <td>NaN</td>\n",
       "      <td>NaN</td>\n",
       "      <td>NaN</td>\n",
       "      <td>NaN</td>\n",
       "      <td>NaN</td>\n",
       "      <td>NaN</td>\n",
       "      <td>NaN</td>\n",
       "      <td>NaN</td>\n",
       "      <td>56.0</td>\n",
       "    </tr>\n",
       "    <tr>\n",
       "      <th>47115</th>\n",
       "      <td>202110040408</td>\n",
       "      <td>アイアイテーラー</td>\n",
       "      <td>鮫島良太</td>\n",
       "      <td>7</td>\n",
       "      <td>1:50.3</td>\n",
       "      <td>79.6</td>\n",
       "      <td>3-3-15-16</td>\n",
       "      <td>16</td>\n",
       "      <td>460.0</td>\n",
       "      <td>0.0</td>\n",
       "      <td>...</td>\n",
       "      <td>NaN</td>\n",
       "      <td>NaN</td>\n",
       "      <td>NaN</td>\n",
       "      <td>NaN</td>\n",
       "      <td>NaN</td>\n",
       "      <td>NaN</td>\n",
       "      <td>NaN</td>\n",
       "      <td>NaN</td>\n",
       "      <td>NaN</td>\n",
       "      <td>54.5</td>\n",
       "    </tr>\n",
       "  </tbody>\n",
       "</table>\n",
       "<p>3 rows × 96 columns</p>\n",
       "</div>"
      ],
      "text/plain": [
       "            race_id         馬    騎手  馬番 走破時間_org    オッズ          通過順  着順  \\\n",
       "7835   202410020201       アアル  小沢大仁   6   1:54.9  209.6  11-13-15-15  15   \n",
       "17689  202305040704       アアル  菅原明良   5   1:30.7   14.7        10-12  14   \n",
       "47115  202110040408  アイアイテーラー  鮫島良太   7   1:50.3   79.6    3-3-15-16  16   \n",
       "\n",
       "          体重  体重変化  ...  体重変化5  上がり5  距離5  クラス5  走破時間5 芝・ダート5 天気5 馬場5  日数差5  \\\n",
       "7835   482.0  12.0  ...    NaN   NaN  NaN   NaN    NaN    NaN NaN NaN   NaN   \n",
       "17689  470.0   0.0  ...    NaN   NaN  NaN   NaN    NaN    NaN NaN NaN   NaN   \n",
       "47115  460.0   0.0  ...    NaN   NaN  NaN   NaN    NaN    NaN NaN NaN   NaN   \n",
       "\n",
       "       平均斤量  \n",
       "7835   56.0  \n",
       "17689  56.0  \n",
       "47115  54.5  \n",
       "\n",
       "[3 rows x 96 columns]"
      ]
     },
     "execution_count": 165,
     "metadata": {},
     "output_type": "execute_result"
    }
   ],
   "source": [
    "# ck\n",
    "df.head(3)"
   ]
  },
  {
   "cell_type": "markdown",
   "id": "8a2c019f-cdb8-47cc-9674-4734d3cd8616",
   "metadata": {
    "jp-MarkdownHeadingCollapsed": true
   },
   "source": [
    "## カテゴリ変数をダミー変数化"
   ]
  },
  {
   "cell_type": "code",
   "execution_count": 166,
   "id": "481e0ba8-0477-44ea-a053-e68dc61a1ba6",
   "metadata": {},
   "outputs": [],
   "source": [
    "categorical_features = ['馬','芝・ダート','芝・ダート1','芝・ダート2','芝・ダート3','芝・ダート4','芝・ダート5','騎手','騎手1','騎手2','騎手3','騎手4','騎手5']\n",
    "\n",
    "for c in categorical_features:\n",
    "    le = LabelEncoder()\n",
    "    le.fit(df[c])\n",
    "    df[c] = le.transform(df[c])"
   ]
  },
  {
   "cell_type": "code",
   "execution_count": 167,
   "id": "2bc4f3bd-58c7-4c0c-b0c2-6a087046f84f",
   "metadata": {},
   "outputs": [
    {
     "data": {
      "text/html": [
       "<div>\n",
       "<style scoped>\n",
       "    .dataframe tbody tr th:only-of-type {\n",
       "        vertical-align: middle;\n",
       "    }\n",
       "\n",
       "    .dataframe tbody tr th {\n",
       "        vertical-align: top;\n",
       "    }\n",
       "\n",
       "    .dataframe thead th {\n",
       "        text-align: right;\n",
       "    }\n",
       "</style>\n",
       "<table border=\"1\" class=\"dataframe\">\n",
       "  <thead>\n",
       "    <tr style=\"text-align: right;\">\n",
       "      <th></th>\n",
       "      <th>race_id</th>\n",
       "      <th>馬</th>\n",
       "      <th>騎手</th>\n",
       "      <th>馬番</th>\n",
       "      <th>走破時間_org</th>\n",
       "      <th>オッズ</th>\n",
       "      <th>通過順</th>\n",
       "      <th>着順</th>\n",
       "      <th>体重</th>\n",
       "      <th>体重変化</th>\n",
       "      <th>...</th>\n",
       "      <th>体重変化5</th>\n",
       "      <th>上がり5</th>\n",
       "      <th>距離5</th>\n",
       "      <th>クラス5</th>\n",
       "      <th>走破時間5</th>\n",
       "      <th>芝・ダート5</th>\n",
       "      <th>天気5</th>\n",
       "      <th>馬場5</th>\n",
       "      <th>日数差5</th>\n",
       "      <th>平均斤量</th>\n",
       "    </tr>\n",
       "  </thead>\n",
       "  <tbody>\n",
       "    <tr>\n",
       "      <th>7835</th>\n",
       "      <td>202410020201</td>\n",
       "      <td>0</td>\n",
       "      <td>111</td>\n",
       "      <td>6</td>\n",
       "      <td>1:54.9</td>\n",
       "      <td>209.6</td>\n",
       "      <td>11-13-15-15</td>\n",
       "      <td>15</td>\n",
       "      <td>482.0</td>\n",
       "      <td>12.0</td>\n",
       "      <td>...</td>\n",
       "      <td>NaN</td>\n",
       "      <td>NaN</td>\n",
       "      <td>NaN</td>\n",
       "      <td>NaN</td>\n",
       "      <td>NaN</td>\n",
       "      <td>3</td>\n",
       "      <td>NaN</td>\n",
       "      <td>NaN</td>\n",
       "      <td>NaN</td>\n",
       "      <td>56.0</td>\n",
       "    </tr>\n",
       "    <tr>\n",
       "      <th>17689</th>\n",
       "      <td>202305040704</td>\n",
       "      <td>0</td>\n",
       "      <td>239</td>\n",
       "      <td>5</td>\n",
       "      <td>1:30.7</td>\n",
       "      <td>14.7</td>\n",
       "      <td>10-12</td>\n",
       "      <td>14</td>\n",
       "      <td>470.0</td>\n",
       "      <td>0.0</td>\n",
       "      <td>...</td>\n",
       "      <td>NaN</td>\n",
       "      <td>NaN</td>\n",
       "      <td>NaN</td>\n",
       "      <td>NaN</td>\n",
       "      <td>NaN</td>\n",
       "      <td>3</td>\n",
       "      <td>NaN</td>\n",
       "      <td>NaN</td>\n",
       "      <td>NaN</td>\n",
       "      <td>56.0</td>\n",
       "    </tr>\n",
       "    <tr>\n",
       "      <th>47115</th>\n",
       "      <td>202110040408</td>\n",
       "      <td>1</td>\n",
       "      <td>282</td>\n",
       "      <td>7</td>\n",
       "      <td>1:50.3</td>\n",
       "      <td>79.6</td>\n",
       "      <td>3-3-15-16</td>\n",
       "      <td>16</td>\n",
       "      <td>460.0</td>\n",
       "      <td>0.0</td>\n",
       "      <td>...</td>\n",
       "      <td>NaN</td>\n",
       "      <td>NaN</td>\n",
       "      <td>NaN</td>\n",
       "      <td>NaN</td>\n",
       "      <td>NaN</td>\n",
       "      <td>3</td>\n",
       "      <td>NaN</td>\n",
       "      <td>NaN</td>\n",
       "      <td>NaN</td>\n",
       "      <td>54.5</td>\n",
       "    </tr>\n",
       "  </tbody>\n",
       "</table>\n",
       "<p>3 rows × 96 columns</p>\n",
       "</div>"
      ],
      "text/plain": [
       "            race_id  馬   騎手  馬番 走破時間_org    オッズ          通過順  着順     体重  体重変化  \\\n",
       "7835   202410020201  0  111   6   1:54.9  209.6  11-13-15-15  15  482.0  12.0   \n",
       "17689  202305040704  0  239   5   1:30.7   14.7        10-12  14  470.0   0.0   \n",
       "47115  202110040408  1  282   7   1:50.3   79.6    3-3-15-16  16  460.0   0.0   \n",
       "\n",
       "       ...  体重変化5  上がり5  距離5  クラス5  走破時間5 芝・ダート5 天気5 馬場5  日数差5  平均斤量  \n",
       "7835   ...    NaN   NaN  NaN   NaN    NaN      3 NaN NaN   NaN  56.0  \n",
       "17689  ...    NaN   NaN  NaN   NaN    NaN      3 NaN NaN   NaN  56.0  \n",
       "47115  ...    NaN   NaN  NaN   NaN    NaN      3 NaN NaN   NaN  54.5  \n",
       "\n",
       "[3 rows x 96 columns]"
      ]
     },
     "execution_count": 167,
     "metadata": {},
     "output_type": "execute_result"
    }
   ],
   "source": [
    "# ck\n",
    "df.head(3)"
   ]
  },
  {
   "cell_type": "code",
   "execution_count": null,
   "id": "8d87f980-f4c6-459a-ac5f-9ef24f43cdff",
   "metadata": {},
   "outputs": [],
   "source": []
  },
  {
   "cell_type": "markdown",
   "id": "bc150ca1-58ef-4eb6-b282-2f7f8e07e992",
   "metadata": {},
   "source": [
    "# 学習"
   ]
  },
  {
   "cell_type": "markdown",
   "id": "99791d34-ba86-4a7d-a456-dc6721ca4c77",
   "metadata": {},
   "source": [
    "## 目的変数を作成"
   ]
  },
  {
   "cell_type": "code",
   "execution_count": 168,
   "id": "1f04ef5f-962e-4216-ab15-dbd09251f7be",
   "metadata": {},
   "outputs": [],
   "source": [
    "# '着順'カラムの値を数値に変換しようとして、エラーが発生する場合はNaNにする\n",
    "df.rename(columns={\"着順\":\"着順_org\"},inplace=True)\n",
    "df['着順'] = pd.to_numeric(df['着順_org'], errors='coerce')\n",
    "\n",
    "# 上位３位に1立て\n",
    "df['target'] = df['着順'].map(lambda x: 1 if x<4 else 0)"
   ]
  },
  {
   "cell_type": "code",
   "execution_count": 169,
   "id": "234fb78d-8055-4384-b0a4-5436e341019d",
   "metadata": {},
   "outputs": [
    {
     "data": {
      "text/html": [
       "<div>\n",
       "<style scoped>\n",
       "    .dataframe tbody tr th:only-of-type {\n",
       "        vertical-align: middle;\n",
       "    }\n",
       "\n",
       "    .dataframe tbody tr th {\n",
       "        vertical-align: top;\n",
       "    }\n",
       "\n",
       "    .dataframe thead tr th {\n",
       "        text-align: left;\n",
       "    }\n",
       "\n",
       "    .dataframe thead tr:last-of-type th {\n",
       "        text-align: right;\n",
       "    }\n",
       "</style>\n",
       "<table border=\"1\" class=\"dataframe\">\n",
       "  <thead>\n",
       "    <tr>\n",
       "      <th></th>\n",
       "      <th>race_id</th>\n",
       "      <th colspan=\"2\" halign=\"left\">着順</th>\n",
       "    </tr>\n",
       "    <tr>\n",
       "      <th></th>\n",
       "      <th>count</th>\n",
       "      <th>min</th>\n",
       "      <th>max</th>\n",
       "    </tr>\n",
       "    <tr>\n",
       "      <th>target</th>\n",
       "      <th></th>\n",
       "      <th></th>\n",
       "      <th></th>\n",
       "    </tr>\n",
       "  </thead>\n",
       "  <tbody>\n",
       "    <tr>\n",
       "      <th>0</th>\n",
       "      <td>156583</td>\n",
       "      <td>4.0</td>\n",
       "      <td>18.0</td>\n",
       "    </tr>\n",
       "    <tr>\n",
       "      <th>1</th>\n",
       "      <td>43446</td>\n",
       "      <td>1.0</td>\n",
       "      <td>3.0</td>\n",
       "    </tr>\n",
       "  </tbody>\n",
       "</table>\n",
       "</div>"
      ],
      "text/plain": [
       "       race_id   着順      \n",
       "         count  min   max\n",
       "target                   \n",
       "0       156583  4.0  18.0\n",
       "1        43446  1.0   3.0"
      ]
     },
     "execution_count": 169,
     "metadata": {},
     "output_type": "execute_result"
    }
   ],
   "source": [
    "# ck\n",
    "df.groupby([\"target\"]).agg({\n",
    "    \"race_id\": \"count\",\n",
    "    \"着順\":[\"min\",\"max\"]\n",
    "})"
   ]
  },
  {
   "cell_type": "markdown",
   "id": "f7498e9a-b210-42d0-a46f-8a1270c2702d",
   "metadata": {},
   "source": [
    "## 学習／検証データに分割"
   ]
  },
  {
   "cell_type": "code",
   "execution_count": 194,
   "id": "3dbc0399-fcee-4541-85fa-a9c8106f75be",
   "metadata": {},
   "outputs": [],
   "source": [
    "# 予測レースよりも過去のデータを取得\n",
    "tg_df = df[df[\"日付\"] < datetime.strptime(valid_ymd, '%Y%m%d')]\n",
    "\n",
    "# 特徴量とターゲットの分割\n",
    "train_df, test_df = train_test_split(tg_df, test_size=0.3, random_state=1234)\n",
    "\n",
    "drop_vars = ['race_id','target','走破時間_org','着順_org','日付_org','走破時間','日付',\"日数差\",\"レース名\",'通過順',\n",
    " '着順',\n",
    " '体重',\n",
    " '体重変化',\n",
    "'人気',\n",
    "'上がり',\n",
    "'場名',\n",
    "'開催',\n",
    "            \"オッズ\",]\n",
    "X_train = train_df.drop(drop_vars, axis=1)\n",
    "y_train = train_df['target']\n",
    "X_test = test_df.drop(drop_vars, axis=1)\n",
    "y_test = test_df['target']"
   ]
  },
  {
   "cell_type": "code",
   "execution_count": 195,
   "id": "21485ae5-a3e1-44ac-bfa5-e6681c3d7169",
   "metadata": {},
   "outputs": [
    {
     "data": {
      "text/html": [
       "<div>\n",
       "<style scoped>\n",
       "    .dataframe tbody tr th:only-of-type {\n",
       "        vertical-align: middle;\n",
       "    }\n",
       "\n",
       "    .dataframe tbody tr th {\n",
       "        vertical-align: top;\n",
       "    }\n",
       "\n",
       "    .dataframe thead th {\n",
       "        text-align: right;\n",
       "    }\n",
       "</style>\n",
       "<table border=\"1\" class=\"dataframe\">\n",
       "  <thead>\n",
       "    <tr style=\"text-align: right;\">\n",
       "      <th></th>\n",
       "      <th>日付</th>\n",
       "    </tr>\n",
       "  </thead>\n",
       "  <tbody>\n",
       "    <tr>\n",
       "      <th>min</th>\n",
       "      <td>2020-01-05</td>\n",
       "    </tr>\n",
       "    <tr>\n",
       "      <th>max</th>\n",
       "      <td>2024-03-03</td>\n",
       "    </tr>\n",
       "  </tbody>\n",
       "</table>\n",
       "</div>"
      ],
      "text/plain": [
       "            日付\n",
       "min 2020-01-05\n",
       "max 2024-03-03"
      ]
     },
     "execution_count": 195,
     "metadata": {},
     "output_type": "execute_result"
    }
   ],
   "source": [
    "# ck\n",
    "tg_df.agg({\"日付\":[\"min\",\"max\"]})"
   ]
  },
  {
   "cell_type": "code",
   "execution_count": 196,
   "id": "4813afe0-66f0-4a10-972d-adc9a515a0a5",
   "metadata": {},
   "outputs": [
    {
     "name": "stdout",
     "output_type": "stream",
     "text": [
      "tg_df   :200019\n",
      "train_df:140013\n",
      "test_df :60006\n"
     ]
    }
   ],
   "source": [
    "# ck\n",
    "print(f\"tg_df   :{len(tg_df)}\")\n",
    "print(f\"train_df:{len(train_df)}\")\n",
    "print(f\"test_df :{len(test_df)}\")"
   ]
  },
  {
   "cell_type": "code",
   "execution_count": 197,
   "id": "0366d2f7-a226-4334-b4b8-1f2d9c9b1ee6",
   "metadata": {},
   "outputs": [
    {
     "name": "stdout",
     "output_type": "stream",
     "text": [
      "['馬', '騎手', '馬番', '性', '齢', '斤量', 'クラス', '芝・ダート', '距離', '回り', '馬場', '天気', '場id', 'レース番号', '馬番1', '騎手1', '斤量1', '体重1', '体重変化1', '上がり1', '距離1', 'クラス1', '走破時間1', '芝・ダート1', '天気1', '馬場1', '日数差1', '馬番2', '騎手2', '斤量2', '体重2', '体重変化2', '上がり2', '距離2', 'クラス2', '走破時間2', '芝・ダート2', '天気2', '馬場2', '日数差2', '馬番3', '騎手3', '斤量3', '体重3', '体重変化3', '上がり3', '距離3', 'クラス3', '走破時間3', '芝・ダート3', '天気3', '馬場3', '日数差3', '馬番4', '騎手4', '斤量4', '体重4', '体重変化4', '上がり4', '距離4', 'クラス4', '走破時間4', '芝・ダート4', '天気4', '馬場4', '日数差4', '馬番5', '騎手5', '斤量5', '体重5', '体重変化5', '上がり5', '距離5', 'クラス5', '走破時間5', '芝・ダート5', '天気5', '馬場5', '日数差5', '平均斤量']\n"
     ]
    }
   ],
   "source": [
    "# ck\n",
    "print(X_train.columns.tolist())"
   ]
  },
  {
   "cell_type": "markdown",
   "id": "40cb691e-d027-4beb-858a-a98b45b104a0",
   "metadata": {},
   "source": [
    "## 勾配ブースティング"
   ]
  },
  {
   "cell_type": "code",
   "execution_count": 198,
   "id": "7ac00fb0-872b-4429-9a59-247a49b36bb1",
   "metadata": {},
   "outputs": [
    {
     "name": "stdout",
     "output_type": "stream",
     "text": [
      "[LightGBM] [Info] Number of positive: 30440, number of negative: 109573\n",
      "[LightGBM] [Info] Auto-choosing col-wise multi-threading, the overhead of testing was 0.072151 seconds.\n",
      "You can set `force_col_wise=true` to remove the overhead.\n",
      "[LightGBM] [Info] Total Bins 6645\n",
      "[LightGBM] [Info] Number of data points in the train set: 140013, number of used features: 80\n",
      "[LightGBM] [Info] [binary:BoostFromScore]: pavg=0.500000 -> initscore=-0.000000\n",
      "[LightGBM] [Info] Start training from score -0.000000\n",
      "0.715491033598241\n",
      "0.7741151470216132\n"
     ]
    }
   ],
   "source": [
    "params={\n",
    "    'num_leaves':50,\n",
    "    # 'n_estimators':80,\n",
    "    # 'min_data_in_leaf':190,\n",
    "    'class_weight':'balanced',\n",
    "    'random_state':100\n",
    "}\n",
    "\n",
    "lgb_clf = lgb.LGBMClassifier(**params)\n",
    "lgb_clf.fit(X_train, y_train)\n",
    "y_pred_train = lgb_clf.predict_proba(X_train)[:,1]\n",
    "y_pred = lgb_clf.predict_proba(X_test)[:,1]\n",
    "\n",
    "print(roc_auc_score(y_test,y_pred))\n",
    "print(roc_auc_score(y_train,y_pred_train))"
   ]
  },
  {
   "cell_type": "code",
   "execution_count": 199,
   "id": "75fa66c3-ff5a-47c9-8fa4-5a2d4cc8e6ef",
   "metadata": {},
   "outputs": [
    {
     "name": "stderr",
     "output_type": "stream",
     "text": [
      "No artists with labels found to put in legend.  Note that artists whose label start with an underscore are ignored when legend() is called with no argument.\n"
     ]
    },
    {
     "name": "stdout",
     "output_type": "stream",
     "text": [
      "AUC: 0.7154910335982412\n"
     ]
    },
    {
     "data": {
      "image/png": "[encoded data removed]",
      "text/plain": [
       "<Figure size 1200x900 with 1 Axes>"
      ]
     },
     "metadata": {},
     "output_type": "display_data"
    }
   ],
   "source": [
    "# テストデータを予測する\n",
    "y_pred = lgb_clf.predict_proba(X_test)[:,1]\n",
    "\n",
    "# AUCを計算\n",
    "fpr, tpr, thresholds = metrics.roc_curve(y_test, y_pred, drop_intermediate=False, )\n",
    "print('AUC:', metrics.auc(fpr, tpr))\n",
    "\n",
    "# ROC曲線をプロット\n",
    "plt.plot(fpr, tpr, marker='o')\n",
    "plt.legend()\n",
    "plt.title('ROC curve')\n",
    "plt.xlabel('False Positive Rate')\n",
    "plt.ylabel('True Positive Rate')\n",
    "plt.grid(True)\n",
    "plt.show()"
   ]
  },
  {
   "cell_type": "markdown",
   "id": "82ef676b-8475-4364-8b88-9d0c98b23f72",
   "metadata": {},
   "source": [
    "# 変数重要度を出力"
   ]
  },
  {
   "cell_type": "code",
   "execution_count": 200,
   "id": "dc17741a-b57c-4a53-b2ba-7bb4f8e1175d",
   "metadata": {},
   "outputs": [],
   "source": [
    "plt.style.use(\"ggplot\")\n",
    "plt.rcParams[\"figure.figsize\"] = [12,9]\n",
    "plt.rcParams['font.family'] = 'MS Gothic'"
   ]
  },
  {
   "cell_type": "code",
   "execution_count": 201,
   "id": "d4601d1c-31ca-4b65-88e5-505e269165cc",
   "metadata": {
    "scrolled": true
   },
   "outputs": [
    {
     "data": {
      "text/plain": [
       "<Axes: title={'center': 'Feature importance'}, xlabel='Feature importance', ylabel='Features'>"
      ]
     },
     "execution_count": 201,
     "metadata": {},
     "output_type": "execute_result"
    },
    {
     "data": {
      "image/png": "[encoded data removed]",
      "text/plain": [
       "<Figure size 1200x900 with 1 Axes>"
      ]
     },
     "metadata": {},
     "output_type": "display_data"
    }
   ],
   "source": [
    "# 特徴量の重要度を棒グラフで可視化\n",
    "lgb.plot_importance(lgb_clf)"
   ]
  },
  {
   "cell_type": "markdown",
   "id": "445fdf52-2357-40b5-9602-b2b9db6abec6",
   "metadata": {},
   "source": [
    "## 予測"
   ]
  },
  {
   "cell_type": "code",
   "execution_count": 202,
   "id": "6d16a11d-ae35-4e4f-93bf-a645a72fb3f9",
   "metadata": {},
   "outputs": [],
   "source": [
    "# 予測レースよりも過去のデータを取得\n",
    "valid_df = df[\n",
    "    (df[\"日付\"] == datetime.strptime(valid_ymd, '%Y%m%d')) & \n",
    "    (df[\"レース名\"] == valid_race)\n",
    "]"
   ]
  },
  {
   "cell_type": "code",
   "execution_count": 203,
   "id": "77b86a2f-ce71-44b0-8ef1-e28b4f32b917",
   "metadata": {},
   "outputs": [
    {
     "data": {
      "text/html": [
       "<div>\n",
       "<style scoped>\n",
       "    .dataframe tbody tr th:only-of-type {\n",
       "        vertical-align: middle;\n",
       "    }\n",
       "\n",
       "    .dataframe tbody tr th {\n",
       "        vertical-align: top;\n",
       "    }\n",
       "\n",
       "    .dataframe thead th {\n",
       "        text-align: right;\n",
       "    }\n",
       "</style>\n",
       "<table border=\"1\" class=\"dataframe\">\n",
       "  <thead>\n",
       "    <tr style=\"text-align: right;\">\n",
       "      <th></th>\n",
       "      <th>日付</th>\n",
       "      <th>レース名</th>\n",
       "      <th>レース番号</th>\n",
       "      <th>馬番</th>\n",
       "    </tr>\n",
       "  </thead>\n",
       "  <tbody>\n",
       "    <tr>\n",
       "      <th>0</th>\n",
       "      <td>2024-03-23</td>\n",
       "      <td>第72回日経賞(G2)</td>\n",
       "      <td>11</td>\n",
       "      <td>1</td>\n",
       "    </tr>\n",
       "    <tr>\n",
       "      <th>1</th>\n",
       "      <td>2024-03-23</td>\n",
       "      <td>第72回日経賞(G2)</td>\n",
       "      <td>11</td>\n",
       "      <td>2</td>\n",
       "    </tr>\n",
       "    <tr>\n",
       "      <th>2</th>\n",
       "      <td>2024-03-23</td>\n",
       "      <td>第72回日経賞(G2)</td>\n",
       "      <td>11</td>\n",
       "      <td>3</td>\n",
       "    </tr>\n",
       "    <tr>\n",
       "      <th>3</th>\n",
       "      <td>2024-03-23</td>\n",
       "      <td>第72回日経賞(G2)</td>\n",
       "      <td>11</td>\n",
       "      <td>4</td>\n",
       "    </tr>\n",
       "    <tr>\n",
       "      <th>4</th>\n",
       "      <td>2024-03-23</td>\n",
       "      <td>第72回日経賞(G2)</td>\n",
       "      <td>11</td>\n",
       "      <td>5</td>\n",
       "    </tr>\n",
       "    <tr>\n",
       "      <th>5</th>\n",
       "      <td>2024-03-23</td>\n",
       "      <td>第72回日経賞(G2)</td>\n",
       "      <td>11</td>\n",
       "      <td>6</td>\n",
       "    </tr>\n",
       "    <tr>\n",
       "      <th>6</th>\n",
       "      <td>2024-03-23</td>\n",
       "      <td>第72回日経賞(G2)</td>\n",
       "      <td>11</td>\n",
       "      <td>7</td>\n",
       "    </tr>\n",
       "    <tr>\n",
       "      <th>7</th>\n",
       "      <td>2024-03-23</td>\n",
       "      <td>第72回日経賞(G2)</td>\n",
       "      <td>11</td>\n",
       "      <td>8</td>\n",
       "    </tr>\n",
       "    <tr>\n",
       "      <th>8</th>\n",
       "      <td>2024-03-23</td>\n",
       "      <td>第72回日経賞(G2)</td>\n",
       "      <td>11</td>\n",
       "      <td>9</td>\n",
       "    </tr>\n",
       "    <tr>\n",
       "      <th>9</th>\n",
       "      <td>2024-03-23</td>\n",
       "      <td>第72回日経賞(G2)</td>\n",
       "      <td>11</td>\n",
       "      <td>10</td>\n",
       "    </tr>\n",
       "  </tbody>\n",
       "</table>\n",
       "</div>"
      ],
      "text/plain": [
       "          日付         レース名  レース番号  馬番\n",
       "0 2024-03-23  第72回日経賞(G2)     11   1\n",
       "1 2024-03-23  第72回日経賞(G2)     11   2\n",
       "2 2024-03-23  第72回日経賞(G2)     11   3\n",
       "3 2024-03-23  第72回日経賞(G2)     11   4\n",
       "4 2024-03-23  第72回日経賞(G2)     11   5\n",
       "5 2024-03-23  第72回日経賞(G2)     11   6\n",
       "6 2024-03-23  第72回日経賞(G2)     11   7\n",
       "7 2024-03-23  第72回日経賞(G2)     11   8\n",
       "8 2024-03-23  第72回日経賞(G2)     11   9\n",
       "9 2024-03-23  第72回日経賞(G2)     11  10"
      ]
     },
     "execution_count": 203,
     "metadata": {},
     "output_type": "execute_result"
    }
   ],
   "source": [
    "# ck\n",
    "valid_df[[\"日付\",\"レース名\",\"レース番号\",\"馬番\"]].sort_values([\"馬番\"]).head(20)"
   ]
  },
  {
   "cell_type": "code",
   "execution_count": 205,
   "id": "c6de27de-a61e-48a0-bd3a-c1b3e6910520",
   "metadata": {},
   "outputs": [
    {
     "name": "stderr",
     "output_type": "stream",
     "text": [
      "C:\\Users\\petbo\\AppData\\Local\\Temp\\ipykernel_25576\\2039437403.py:13: SettingWithCopyWarning: \n",
      "A value is trying to be set on a copy of a slice from a DataFrame.\n",
      "Try using .loc[row_indexer,col_indexer] = value instead\n",
      "\n",
      "See the caveats in the documentation: https://pandas.pydata.org/pandas-docs/stable/user_guide/indexing.html#returning-a-view-versus-a-copy\n",
      "  valid_df[\"pred\"] = y_pred_valid\n"
     ]
    }
   ],
   "source": [
    "# 予測\n",
    "drop_vars = ['race_id','target','走破時間_org','着順_org','日付_org','走破時間','日付',\"日数差\",\"レース名\",'通過順',\n",
    " '人気',\n",
    " '着順',\n",
    " '体重',\n",
    " '体重変化',\n",
    "'上がり',\n",
    "'場名',\n",
    "'開催',\n",
    "            \"オッズ\",]\n",
    "X_valid = valid_df.drop(drop_vars, axis=1)\n",
    "y_pred_valid = lgb_clf.predict_proba(X_valid)[:,1]\n",
    "valid_df[\"pred\"] = y_pred_valid"
   ]
  },
  {
   "cell_type": "code",
   "execution_count": 206,
   "id": "ddef100c-53e7-4cd6-956c-44b5346d9cb5",
   "metadata": {},
   "outputs": [
    {
     "data": {
      "text/html": [
       "<div>\n",
       "<style scoped>\n",
       "    .dataframe tbody tr th:only-of-type {\n",
       "        vertical-align: middle;\n",
       "    }\n",
       "\n",
       "    .dataframe tbody tr th {\n",
       "        vertical-align: top;\n",
       "    }\n",
       "\n",
       "    .dataframe thead th {\n",
       "        text-align: right;\n",
       "    }\n",
       "</style>\n",
       "<table border=\"1\" class=\"dataframe\">\n",
       "  <thead>\n",
       "    <tr style=\"text-align: right;\">\n",
       "      <th></th>\n",
       "      <th>日付</th>\n",
       "      <th>レース名</th>\n",
       "      <th>レース番号</th>\n",
       "      <th>馬番</th>\n",
       "      <th>馬</th>\n",
       "      <th>着順</th>\n",
       "      <th>pred</th>\n",
       "    </tr>\n",
       "  </thead>\n",
       "  <tbody>\n",
       "    <tr>\n",
       "      <th>5</th>\n",
       "      <td>2024-03-23</td>\n",
       "      <td>第72回日経賞(G2)</td>\n",
       "      <td>11</td>\n",
       "      <td>6</td>\n",
       "      <td>9376</td>\n",
       "      <td>NaN</td>\n",
       "      <td>0.521277</td>\n",
       "    </tr>\n",
       "    <tr>\n",
       "      <th>3</th>\n",
       "      <td>2024-03-23</td>\n",
       "      <td>第72回日経賞(G2)</td>\n",
       "      <td>11</td>\n",
       "      <td>4</td>\n",
       "      <td>7959</td>\n",
       "      <td>NaN</td>\n",
       "      <td>0.463860</td>\n",
       "    </tr>\n",
       "    <tr>\n",
       "      <th>9</th>\n",
       "      <td>2024-03-23</td>\n",
       "      <td>第72回日経賞(G2)</td>\n",
       "      <td>11</td>\n",
       "      <td>10</td>\n",
       "      <td>6136</td>\n",
       "      <td>NaN</td>\n",
       "      <td>0.448119</td>\n",
       "    </tr>\n",
       "    <tr>\n",
       "      <th>1</th>\n",
       "      <td>2024-03-23</td>\n",
       "      <td>第72回日経賞(G2)</td>\n",
       "      <td>11</td>\n",
       "      <td>2</td>\n",
       "      <td>21125</td>\n",
       "      <td>NaN</td>\n",
       "      <td>0.431413</td>\n",
       "    </tr>\n",
       "    <tr>\n",
       "      <th>8</th>\n",
       "      <td>2024-03-23</td>\n",
       "      <td>第72回日経賞(G2)</td>\n",
       "      <td>11</td>\n",
       "      <td>9</td>\n",
       "      <td>20357</td>\n",
       "      <td>NaN</td>\n",
       "      <td>0.283008</td>\n",
       "    </tr>\n",
       "    <tr>\n",
       "      <th>7</th>\n",
       "      <td>2024-03-23</td>\n",
       "      <td>第72回日経賞(G2)</td>\n",
       "      <td>11</td>\n",
       "      <td>8</td>\n",
       "      <td>754</td>\n",
       "      <td>NaN</td>\n",
       "      <td>0.282427</td>\n",
       "    </tr>\n",
       "    <tr>\n",
       "      <th>0</th>\n",
       "      <td>2024-03-23</td>\n",
       "      <td>第72回日経賞(G2)</td>\n",
       "      <td>11</td>\n",
       "      <td>1</td>\n",
       "      <td>17419</td>\n",
       "      <td>NaN</td>\n",
       "      <td>0.280693</td>\n",
       "    </tr>\n",
       "    <tr>\n",
       "      <th>2</th>\n",
       "      <td>2024-03-23</td>\n",
       "      <td>第72回日経賞(G2)</td>\n",
       "      <td>11</td>\n",
       "      <td>3</td>\n",
       "      <td>20215</td>\n",
       "      <td>NaN</td>\n",
       "      <td>0.246343</td>\n",
       "    </tr>\n",
       "    <tr>\n",
       "      <th>4</th>\n",
       "      <td>2024-03-23</td>\n",
       "      <td>第72回日経賞(G2)</td>\n",
       "      <td>11</td>\n",
       "      <td>5</td>\n",
       "      <td>20629</td>\n",
       "      <td>NaN</td>\n",
       "      <td>0.243142</td>\n",
       "    </tr>\n",
       "    <tr>\n",
       "      <th>6</th>\n",
       "      <td>2024-03-23</td>\n",
       "      <td>第72回日経賞(G2)</td>\n",
       "      <td>11</td>\n",
       "      <td>7</td>\n",
       "      <td>2184</td>\n",
       "      <td>NaN</td>\n",
       "      <td>0.180928</td>\n",
       "    </tr>\n",
       "  </tbody>\n",
       "</table>\n",
       "</div>"
      ],
      "text/plain": [
       "          日付         レース名  レース番号  馬番      馬  着順      pred\n",
       "5 2024-03-23  第72回日経賞(G2)     11   6   9376 NaN  0.521277\n",
       "3 2024-03-23  第72回日経賞(G2)     11   4   7959 NaN  0.463860\n",
       "9 2024-03-23  第72回日経賞(G2)     11  10   6136 NaN  0.448119\n",
       "1 2024-03-23  第72回日経賞(G2)     11   2  21125 NaN  0.431413\n",
       "8 2024-03-23  第72回日経賞(G2)     11   9  20357 NaN  0.283008\n",
       "7 2024-03-23  第72回日経賞(G2)     11   8    754 NaN  0.282427\n",
       "0 2024-03-23  第72回日経賞(G2)     11   1  17419 NaN  0.280693\n",
       "2 2024-03-23  第72回日経賞(G2)     11   3  20215 NaN  0.246343\n",
       "4 2024-03-23  第72回日経賞(G2)     11   5  20629 NaN  0.243142\n",
       "6 2024-03-23  第72回日経賞(G2)     11   7   2184 NaN  0.180928"
      ]
     },
     "execution_count": 206,
     "metadata": {},
     "output_type": "execute_result"
    }
   ],
   "source": [
    "# ck\n",
    "valid_df[[\"日付\",\"レース名\",\"レース番号\",\"馬番\",\"馬\",\"着順\",\"pred\"]].sort_values([\"pred\"],ascending=False).head(20)"
   ]
  },
  {
   "cell_type": "markdown",
   "id": "b50f45c7-1eaa-4ffa-b4a6-62a6f8099261",
   "metadata": {},
   "source": [
    "全然違う・・・"
   ]
  },
  {
   "cell_type": "code",
   "execution_count": null,
   "id": "676e3499-b5af-43be-9cbd-27e9fd3d21e0",
   "metadata": {},
   "outputs": [],
   "source": []
  }
 ],
 "metadata": {
  "kernelspec": {
   "display_name": "Python 3 (ipykernel)",
   "language": "python",
   "name": "python3"
  },
  "language_info": {
   "codemirror_mode": {
    "name": "ipython",
    "version": 3
   },
   "file_extension": ".py",
   "mimetype": "text/x-python",
   "name": "python",
   "nbconvert_exporter": "python",
   "pygments_lexer": "ipython3",
   "version": "3.11.8"
  }
 },
 "nbformat": 4,
 "nbformat_minor": 5
}
